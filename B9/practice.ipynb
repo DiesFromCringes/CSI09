{
 "cells": [
  {
   "cell_type": "code",
   "execution_count": 4,
   "metadata": {},
   "outputs": [],
   "source": [
    "from collections import deque"
   ]
  },
  {
   "cell_type": "code",
   "execution_count": 5,
   "metadata": {},
   "outputs": [],
   "source": [
    "def is_valid(sequence):\n",
    "    if len(sequence) == 0:\n",
    "        return\n",
    "    stack = deque()\n",
    "    for par in sequence:\n",
    "        if par == \"(\":\n",
    "            stack.append(par)\n",
    "        elif par == ')':\n",
    "         if len(stack) > 0:\n",
    "                stack.pop()\n",
    "        else:\n",
    "                return False\n",
    "    return len(stack) == 0\n"
   ]
  },
  {
   "cell_type": "code",
   "execution_count": 6,
   "metadata": {},
   "outputs": [
    {
     "name": "stdout",
     "output_type": "stream",
     "text": [
      "True\n",
      "False\n"
     ]
    }
   ],
   "source": [
    "print(is_valid(\"(((((())))))\")) # true\n",
    "print(is_valid(\"(3*2) + (10*(12+4)\")) #false\n"
   ]
  },
  {
   "cell_type": "markdown",
   "metadata": {},
   "source": [
    " Bai 2 To chuc hang doi"
   ]
  },
  {
   "cell_type": "code",
   "execution_count": 7,
   "metadata": {},
   "outputs": [],
   "source": [
    "class Customer:\n",
    "    def __init__(self, cashier):\n",
    "        self.cashier = cashier\n",
    "\n",
    "    def create_order(self, order_name):\n",
    "        order_id = self.cashier.receive_order(order_name)\n",
    "        print(\"Order #{}: {} recorded.\".format(order_id, order_name))"
   ]
  },
  {
   "cell_type": "code",
   "execution_count": 8,
   "metadata": {},
   "outputs": [],
   "source": [
    "class Cashier:\n",
    "    def __init__(self):\n",
    "        self.order_queue = deque()  # tao danh sach luu tru don da dat\n",
    "        self.order_count = 0\n",
    "\n",
    "    def set_chef(self, chef):\n",
    "        self.chef = chef\n",
    "\n",
    "    def receive_order(self, order_name):\n",
    "        self.order_count += 1  # cong don so thu tu cho danh sach\n",
    "        if not self.chef.receive_request((self.order_count, order_name)):\n",
    "            # kiem tra neu chef khong phuc vu => nau mon moi\n",
    "            self.order_queue.append((self.order_count, order_name))\n",
    "\n",
    "        return self.order_count  # tra so cho khach hang\n",
    "\n",
    "    def service_order(self, order):\n",
    "        print(\"==> Order #{}: {} served.\".format(order[0], order[1]))\n",
    "        \n",
    "        # kiem tra va add don tiep theo vao hang doi phuc vu\n",
    "        if len(self.order_queue) > 0 and self.chef.receive_request((self.order_queue[0])):\n",
    "            self.order_queue.popleft() # da phuc vu xong => out"
   ]
  },
  {
   "cell_type": "code",
   "execution_count": 9,
   "metadata": {},
   "outputs": [],
   "source": [
    "class Chef:\n",
    "    def __init__(self, cashier):\n",
    "        self.__lock = Lock()  # bien private (khong co quyen truy cap ngoai class)\n",
    "        self.cashier = cashier\n",
    "\n",
    "    def receive_request(self, order):\n",
    "        busy = self.__lock.locked()\n",
    "        if not busy:\n",
    "            thread = Thread(target=self.__make_order, args=(order))  # tao luong\n",
    "            thread.start()  # chay luong\n",
    "        return not busy\n",
    "\n",
    "    # ham private (ngoai class Chef khong duoc goi den)\n",
    "    def __make_order(self, order):\n",
    "        self.__lock.acquire()\n",
    "        sleep(1)  # moi mon phuc vu trong 1 giay\n",
    "        self.__lock.release()\n",
    "        self.cashier.service_order(order)"
   ]
  },
  {
   "cell_type": "code",
   "execution_count": 10,
   "metadata": {},
   "outputs": [
    {
     "ename": "NameError",
     "evalue": "name 'Lock' is not defined",
     "output_type": "error",
     "traceback": [
      "\u001b[1;31m---------------------------------------------------------------------------\u001b[0m",
      "\u001b[1;31mNameError\u001b[0m                                 Traceback (most recent call last)",
      "Cell \u001b[1;32mIn[10], line 3\u001b[0m\n\u001b[0;32m      1\u001b[0m \u001b[38;5;66;03m# init objects\u001b[39;00m\n\u001b[0;32m      2\u001b[0m cashier \u001b[38;5;241m=\u001b[39m Cashier()\n\u001b[1;32m----> 3\u001b[0m chef \u001b[38;5;241m=\u001b[39m \u001b[43mChef\u001b[49m\u001b[43m(\u001b[49m\u001b[43mcashier\u001b[49m\u001b[43m)\u001b[49m\n\u001b[0;32m      4\u001b[0m cashier\u001b[38;5;241m.\u001b[39mset_chef(chef)\n\u001b[0;32m      5\u001b[0m customer \u001b[38;5;241m=\u001b[39m Customer(cashier)\n",
      "Cell \u001b[1;32mIn[9], line 3\u001b[0m, in \u001b[0;36mChef.__init__\u001b[1;34m(self, cashier)\u001b[0m\n\u001b[0;32m      2\u001b[0m \u001b[38;5;28;01mdef\u001b[39;00m \u001b[38;5;21m__init__\u001b[39m(\u001b[38;5;28mself\u001b[39m, cashier):\n\u001b[1;32m----> 3\u001b[0m     \u001b[38;5;28mself\u001b[39m\u001b[38;5;241m.\u001b[39m__lock \u001b[38;5;241m=\u001b[39m \u001b[43mLock\u001b[49m()  \u001b[38;5;66;03m# bien private (khong co quyen truy cap ngoai class)\u001b[39;00m\n\u001b[0;32m      4\u001b[0m     \u001b[38;5;28mself\u001b[39m\u001b[38;5;241m.\u001b[39mcashier \u001b[38;5;241m=\u001b[39m cashier\n",
      "\u001b[1;31mNameError\u001b[0m: name 'Lock' is not defined"
     ]
    }
   ],
   "source": [
    "# init objects\n",
    "cashier = Cashier()\n",
    "chef = Chef(cashier)\n",
    "cashier.set_chef(chef)\n",
    "customer = Customer(cashier)\n",
    "\n",
    "# simulation\n",
    "customer.order(\"Vietnamese Coffee\")\n",
    "customer.order(\"Capuchino\")\n",
    "sleep(3)\n",
    "customer.order(\"Latte\")\n",
    "sleep(2)\n",
    "customer.order(\"Mocha\")"
   ]
  }
 ],
 "metadata": {
  "kernelspec": {
   "display_name": "Python 3",
   "language": "python",
   "name": "python3"
  },
  "language_info": {
   "codemirror_mode": {
    "name": "ipython",
    "version": 3
   },
   "file_extension": ".py",
   "mimetype": "text/x-python",
   "name": "python",
   "nbconvert_exporter": "python",
   "pygments_lexer": "ipython3",
   "version": "3.12.2"
  }
 },
 "nbformat": 4,
 "nbformat_minor": 2
}
