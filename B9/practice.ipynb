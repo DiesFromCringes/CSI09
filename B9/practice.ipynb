{
 "cells": [
  {
   "cell_type": "code",
   "execution_count": 1,
   "metadata": {},
   "outputs": [],
   "source": [
    "from collections import deque"
   ]
  },
  {
   "cell_type": "code",
   "execution_count": 5,
   "metadata": {},
   "outputs": [],
   "source": [
    "def is_valid(sequence):\n",
    "    if len(sequence) == 0:\n",
    "        return\n",
    "    stack = deque()\n",
    "    for par in sequence:\n",
    "        if par == \"(\":\n",
    "            stack.append(par)\n",
    "        elif par == ')':\n",
    "         if len(stack) > 0:\n",
    "                stack.pop()\n",
    "        else:\n",
    "                return False\n",
    "    return len(stack) == 0\n"
   ]
  },
  {
   "cell_type": "code",
   "execution_count": 6,
   "metadata": {},
   "outputs": [
    {
     "name": "stdout",
     "output_type": "stream",
     "text": [
      "True\n",
      "False\n"
     ]
    }
   ],
   "source": [
    "print(is_valid(\"(((((())))))\")) # true\n",
    "print(is_valid(\"(3*2) + (10*(12+4)\")) #false\n"
   ]
  },
  {
   "cell_type": "markdown",
   "metadata": {},
   "source": [
    " Bai 2 To chuc hang doi"
   ]
  },
  {
   "cell_type": "code",
   "execution_count": 7,
   "metadata": {},
   "outputs": [],
   "source": [
    "class Customer:\n",
    "    def __init__(self, order_name, order_id):\n",
    "        self.order_name = order_name\n",
    "        self.order_id = order_id\n",
    "    \n",
    "    def create_order(self):\n",
    "        print(\"Order #{}: {} recored.\".format(self.order_id, self.order_name))\n",
    "        "
   ]
  },
  {
   "cell_type": "code",
   "execution_count": null,
   "metadata": {},
   "outputs": [],
   "source": [
    "class Cashier:\n",
    "    def __init__(self):\n",
    "        self.order_queue = deque()\n",
    "        self.order_count = 0\n",
    "    def set_chef(self, chef):\n",
    "        self.chef = chef\n",
    "\n",
    "    def receive_order(self, order_name):\n",
    "        self.order_count += 1\n",
    "        if not self.chef.receive_request((self.order_count, order_name)):\n",
    "            self.order_queue.append((self.order_count, order_name))\n",
    "\n",
    "        return self.order_count\n",
    "    def service_order(self, order):\n",
    "        print(\"==> Order #{}: {} served.\".format(order[0], order[1]))\n",
    "\n",
    "        if len(self.order_queue) > 0 and self.chef.receive_request((self.order_queue[0])):\n",
    "            self.order_queue.popleft()"
   ]
  }
 ],
 "metadata": {
  "kernelspec": {
   "display_name": "Python 3",
   "language": "python",
   "name": "python3"
  },
  "language_info": {
   "codemirror_mode": {
    "name": "ipython",
    "version": 3
   },
   "file_extension": ".py",
   "mimetype": "text/x-python",
   "name": "python",
   "nbconvert_exporter": "python",
   "pygments_lexer": "ipython3",
   "version": "3.12.2"
  }
 },
 "nbformat": 4,
 "nbformat_minor": 2
}
