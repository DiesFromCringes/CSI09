{
 "cells": [
  {
   "cell_type": "code",
   "execution_count": 4,
   "metadata": {},
   "outputs": [
    {
     "name": "stdout",
     "output_type": "stream",
     "text": [
      "['also', 'cat', 'chasing', 'dog', 'is', 'rat', 'the']\n"
     ]
    }
   ],
   "source": [
    "import re\n",
    "\n",
    "def filter(input_str):\n",
    "    cleaned_str = re.sub(r'[^a-zA-Z\\s]', '', input_str)\n",
    "    \n",
    "    word_list = cleaned_str.lower().split()\n",
    "    \n",
    "\n",
    "    unique_words = list(set(word_list))\n",
    "    unique_words.sort()\n",
    "    return unique_words\n",
    "\n",
    "# Dữ liệu đầu vào\n",
    "input_str = \"The cat is chasing the rat. The dog is also chasing the rat.\"\n",
    "\n",
    "# Kiểm tra hàm\n",
    "output = filter(input_str)\n",
    "print(output)\n"
   ]
  }
 ],
 "metadata": {
  "kernelspec": {
   "display_name": "Python 3",
   "language": "python",
   "name": "python3"
  },
  "language_info": {
   "codemirror_mode": {
    "name": "ipython",
    "version": 3
   },
   "file_extension": ".py",
   "mimetype": "text/x-python",
   "name": "python",
   "nbconvert_exporter": "python",
   "pygments_lexer": "ipython3",
   "version": "3.12.2"
  }
 },
 "nbformat": 4,
 "nbformat_minor": 2
}
