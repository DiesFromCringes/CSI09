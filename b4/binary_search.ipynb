{
 "cells": [
  {
   "cell_type": "code",
   "execution_count": 1,
   "metadata": {},
   "outputs": [],
   "source": [
    "number_list = [5, 9, 1, 12, 30, 35, 75, -10, -15, -20, -4, 0, 20, 0, 20, 3, 6, -14]"
   ]
  },
  {
   "cell_type": "code",
   "execution_count": 7,
   "metadata": {},
   "outputs": [],
   "source": [
    "def binary_search(data_list, value):\n",
    "    \n",
    "    # initialize searching range\n",
    "    left = 0\n",
    "    right = len(data_list)-1\n",
    " \n",
    "    while left <= right:  # while searching range has at least 1 item...\n",
    "        \n",
    "        # get the middle item\n",
    "        mid = (left + right) // 2\n",
    "        mid_item = data_list[mid]\n",
    "        \n",
    "        # do comparisons\n",
    "        if mid_item < value:\n",
    "            left = mid + 1   # middle item is smaller => update the searching range to half-right\n",
    "        elif mid_item > value:\n",
    "            right = mid - 1  # middle item is larger => update the searching range to half-left\n",
    "        else:\n",
    "            return mid       # value found\n",
    "\n",
    "    return -1  # special value implying \"not  found\""
   ]
  }
 ],
 "metadata": {
  "kernelspec": {
   "display_name": "Python 3",
   "language": "python",
   "name": "python3"
  },
  "language_info": {
   "codemirror_mode": {
    "name": "ipython",
    "version": 3
   },
   "file_extension": ".py",
   "mimetype": "text/x-python",
   "name": "python",
   "nbconvert_exporter": "python",
   "pygments_lexer": "ipython3",
   "version": "3.12.2"
  }
 },
 "nbformat": 4,
 "nbformat_minor": 2
}
