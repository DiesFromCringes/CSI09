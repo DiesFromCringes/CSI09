{
 "cells": [
  {
   "cell_type": "code",
   "execution_count": 1,
   "metadata": {},
   "outputs": [],
   "source": [
    "number_list = [5, 9, 1, 12, 30, 35, 75, -10, -15, -20, -4, 0, 20, 0, 20, 3, 6, -14]"
   ]
  },
  {
   "cell_type": "code",
   "execution_count": 6,
   "metadata": {},
   "outputs": [
    {
     "ename": "IndexError",
     "evalue": "list index out of range",
     "output_type": "error",
     "traceback": [
      "\u001b[1;31m---------------------------------------------------------------------------\u001b[0m",
      "\u001b[1;31mIndexError\u001b[0m                                Traceback (most recent call last)",
      "Cell \u001b[1;32mIn[6], line 18\u001b[0m\n\u001b[0;32m     14\u001b[0m     \u001b[38;5;28;01melse\u001b[39;00m:\n\u001b[0;32m     16\u001b[0m         \u001b[38;5;28;01mreturn\u001b[39;00m \u001b[38;5;241m-\u001b[39m\u001b[38;5;241m1\u001b[39m\n\u001b[1;32m---> 18\u001b[0m \u001b[38;5;28mprint\u001b[39m(\u001b[43mbinary_search\u001b[49m\u001b[43m(\u001b[49m\u001b[43mnumber_list\u001b[49m\u001b[43m,\u001b[49m\u001b[43m \u001b[49m\u001b[38;5;241;43m-\u001b[39;49m\u001b[38;5;241;43m20\u001b[39;49m\u001b[43m,\u001b[49m\u001b[43m \u001b[49m\u001b[38;5;241;43m75\u001b[39;49m\u001b[43m,\u001b[49m\u001b[43m \u001b[49m\u001b[38;5;241;43m-\u001b[39;49m\u001b[38;5;241;43m15\u001b[39;49m\u001b[43m)\u001b[49m)\n",
      "Cell \u001b[1;32mIn[6], line 6\u001b[0m, in \u001b[0;36mbinary_search\u001b[1;34m(list, low, high, num)\u001b[0m\n\u001b[0;32m      3\u001b[0m mid \u001b[38;5;241m=\u001b[39m (high \u001b[38;5;241m+\u001b[39m low)\u001b[38;5;241m/\u001b[39m\u001b[38;5;241m/\u001b[39m\u001b[38;5;241m2\u001b[39m\n\u001b[0;32m      5\u001b[0m \u001b[38;5;66;03m# neu so can tim o mid\u001b[39;00m\n\u001b[1;32m----> 6\u001b[0m \u001b[38;5;28;01mif\u001b[39;00m \u001b[38;5;28;43mlist\u001b[39;49m\u001b[43m[\u001b[49m\u001b[43mmid\u001b[49m\u001b[43m]\u001b[49m \u001b[38;5;241m==\u001b[39m num:\n\u001b[0;32m      7\u001b[0m     \u001b[38;5;28;01mreturn\u001b[39;00m mid\n\u001b[0;32m      9\u001b[0m \u001b[38;5;66;03m# neu so can tim be hon mid\u001b[39;00m\n",
      "\u001b[1;31mIndexError\u001b[0m: list index out of range"
     ]
    }
   ],
   "source": [
    "def binary_search(data_list, value):\n",
    "    \n",
    "    # initialize searching range\n",
    "    left = 0\n",
    "    right = len(data_list)-1\n",
    " \n",
    "    while left <= right:  # while searching range has at least 1 item...\n",
    "        \n",
    "        # get the middle item\n",
    "        mid = (left + right) // 2\n",
    "        mid_item = data_list[mid]\n",
    "        \n",
    "        # do comparisons\n",
    "        if mid_item < value:\n",
    "            left = mid + 1   # middle item is smaller => update the searching range to half-right\n",
    "        elif mid_item > value:\n",
    "            right = mid - 1  # middle item is larger => update the searching range to half-left\n",
    "        else:\n",
    "            return mid       # value found\n",
    "\n",
    "    return -1  # special value implying \"not  found\""
   ]
  }
 ],
 "metadata": {
  "kernelspec": {
   "display_name": "Python 3",
   "language": "python",
   "name": "python3"
  },
  "language_info": {
   "codemirror_mode": {
    "name": "ipython",
    "version": 3
   },
   "file_extension": ".py",
   "mimetype": "text/x-python",
   "name": "python",
   "nbconvert_exporter": "python",
   "pygments_lexer": "ipython3",
   "version": "3.12.2"
  }
 },
 "nbformat": 4,
 "nbformat_minor": 2
}
