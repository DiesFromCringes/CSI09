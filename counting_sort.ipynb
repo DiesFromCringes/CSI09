{
 "cells": [
  {
   "cell_type": "markdown",
   "metadata": {},
   "source": [
    "Counting sort"
   ]
  },
  {
   "cell_type": "code",
   "execution_count": 4,
   "metadata": {},
   "outputs": [],
   "source": [
    "list = [123, 4324, 3421, 4352, 222, 111]"
   ]
  },
  {
   "cell_type": "code",
   "execution_count": null,
   "metadata": {},
   "outputs": [],
   "source": [
    "def counting_sort(arr):\n",
    "    # khai báo giá trị nhỏ nhất và lớn nhất\n",
    "    min_val = min(arr)\n",
    "    max_val = max(arr)\n",
    "    # thay count = danh sách của dữ liệu\n",
    "    count = [0] * (max_val - min_val +1 )\n",
    "    # đếm số lần xuất hiện của các giá trị\n",
    "    for num in arr:\n",
    "        count[num - min_val] += 1\n",
    "    # tạo kết quả từ mảng đếm\n",
    "    sorted_arr = []\n",
    "    for i in range(len(count)):\n",
    "        sort \n",
    "\n",
    "\n",
    "counting_sort(list)"
   ]
  }
 ],
 "metadata": {
  "kernelspec": {
   "display_name": "Python 3",
   "language": "python",
   "name": "python3"
  },
  "language_info": {
   "codemirror_mode": {
    "name": "ipython",
    "version": 3
   },
   "file_extension": ".py",
   "mimetype": "text/x-python",
   "name": "python",
   "nbconvert_exporter": "python",
   "pygments_lexer": "ipython3",
   "version": "3.12.2"
  }
 },
 "nbformat": 4,
 "nbformat_minor": 2
}
