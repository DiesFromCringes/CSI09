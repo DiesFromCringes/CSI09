{
 "cells": [
  {
   "cell_type": "markdown",
   "metadata": {
    "id": "96p0o43H47of"
   },
   "source": [
    "## <center>Computer Science Intensive Course - MindX</center>\n",
    "![](./assets/logo.png)\n",
    "# <center>HOMEWORK 6. THUẬT TOÁN SẮP XẾP (2)</center>"
   ]
  },
  {
   "cell_type": "code",
   "execution_count": null,
   "metadata": {
    "id": "LotSLJCD47ok"
   },
   "outputs": [],
   "source": [
    "# run this cell FIRST\n",
    "import matplotlib.pyplot as plt\n",
    "\n",
    "def show_list(arr, title=''):\n",
    "    fig, ax = plt.subplots(figsize=(20, 4))\n",
    "    ax.bar(range(len(arr)), arr)\n",
    "    ax.set_title(title)\n",
    "    ax.set_xlabel('index')\n",
    "    ax.set_xticks(range(len(arr)))\n",
    "    ax.spines['top'].set_visible(False)\n",
    "    ax.spines['right'].set_visible(False)\n",
    "    plt.show()"
   ]
  },
  {
   "cell_type": "markdown",
   "metadata": {
    "id": "d6iOhrzm47ol"
   },
   "source": [
    "## Bài Tập: Merge Sort Bằng Vòng Lặp\n",
    "\n",
    "Ta đã biết cách cài đặt của thuật toán Merge Sort qua phương pháp đệ quy. Phương pháp này được sử dụng phổ biến do dễ cài đặt, tuy nhiên ta lại tốn *O(log(n))* độ phức tạp bộ nhớ stack cho việc gọi đệ quy.  \n",
    "\n",
    "Ta cũng biết rằng mọi thuật toán đệ quy đều có thể được viết dưới dạng không đệ quy.  \n",
    "\n",
    "**Bài toán**: Hãy tìm cách cài đặt thuật toán Merge Sort mà không sử dụng đệ quy.  \n",
    "\n",
    "*Gợi ý*: Nửa dưới của hình minh họa trong bài học.\n",
    "![](./assets/merge-sort.png)\n",
    "<div style='text-align: right'><i>Ảnh: geeksforgeeks.org/merge-sort/</i></div>"
   ]
  },
  {
   "cell_type": "code",
   "execution_count": 2,
   "metadata": {
    "id": "pZab8WpO47om",
    "outputId": "20d74379-c8cd-4150-9891-601f7570b0aa"
   },
   "outputs": [
    {
     "ename": "NameError",
     "evalue": "name 'show_list' is not defined",
     "output_type": "error",
     "traceback": [
      "\u001b[1;31m---------------------------------------------------------------------------\u001b[0m",
      "\u001b[1;31mNameError\u001b[0m                                 Traceback (most recent call last)",
      "Cell \u001b[1;32mIn[2], line 2\u001b[0m\n\u001b[0;32m      1\u001b[0m sample_number_list \u001b[38;5;241m=\u001b[39m [\u001b[38;5;241m5\u001b[39m, \u001b[38;5;241m9\u001b[39m, \u001b[38;5;241m1\u001b[39m, \u001b[38;5;241m12\u001b[39m, \u001b[38;5;241m30\u001b[39m, \u001b[38;5;241m35\u001b[39m, \u001b[38;5;241m75\u001b[39m, \u001b[38;5;241m10\u001b[39m, \u001b[38;5;241m15\u001b[39m, \u001b[38;5;241m20\u001b[39m, \u001b[38;5;241m4\u001b[39m, \u001b[38;5;241m0\u001b[39m, \u001b[38;5;241m20\u001b[39m, \u001b[38;5;241m0\u001b[39m, \u001b[38;5;241m20\u001b[39m, \u001b[38;5;241m3\u001b[39m, \u001b[38;5;241m6\u001b[39m, \u001b[38;5;241m14\u001b[39m]\n\u001b[1;32m----> 2\u001b[0m \u001b[43mshow_list\u001b[49m(sample_number_list, title\u001b[38;5;241m=\u001b[39m\u001b[38;5;124m'\u001b[39m\u001b[38;5;124msample_number_list\u001b[39m\u001b[38;5;124m'\u001b[39m)\n",
      "\u001b[1;31mNameError\u001b[0m: name 'show_list' is not defined"
     ]
    }
   ],
   "source": [
    "sample_number_list = [5, 9, 1, 12, 30, 35, 75, 10, 15, 20, 4, 0, 20, 0, 20, 3, 6, 14]\n",
    "show_list(sample_number_list, title='sample_number_list')"
   ]
  },
  {
   "cell_type": "code",
   "execution_count": 1,
   "metadata": {
    "id": "UOosu5Kk47oo"
   },
   "outputs": [
    {
     "ename": "SyntaxError",
     "evalue": "invalid syntax (630350193.py, line 26)",
     "output_type": "error",
     "traceback": [
      "\u001b[1;36m  Cell \u001b[1;32mIn[1], line 26\u001b[1;36m\u001b[0m\n\u001b[1;33m    ----------------------\u001b[0m\n\u001b[1;37m                          ^\u001b[0m\n\u001b[1;31mSyntaxError\u001b[0m\u001b[1;31m:\u001b[0m invalid syntax\n"
     ]
    }
   ],
   "source": [
    "# same as sample code in lesson\n",
    "def merge(arr, left, right, mid):\n",
    "\n",
    "    # make shallow copy of 2 portions for convenient merging\n",
    "    arr1 = arr[left:mid]\n",
    "    arr2 = arr[mid:right]\n",
    "    \n",
    "    n1 = len(arr1)\n",
    "    n2 = len(arr2)\n",
    "    i = j = 0\n",
    "    k = left\n",
    "# traverse arr1 and arr2 until one is empty\n",
    "    while i < n1 and j < n2:\n",
    "        if arr1[i] < arr2[j]:\n",
    "            arr[k] = arr1[i]\n",
    "            i += 1\n",
    "        else:\n",
    "            arr[k] = arr2[j]\n",
    "            j += 1\n",
    "        k +=  1\n",
    "     \n",
    "    # get remaining elements\n",
    "    arr[k:k+n1-i] = arr1[i:n1]\n",
    "    k += n1-i\n",
    "    arr[k:k+n2-j] = arr2[j:n2]\n",
    "----------------------\n",
    "def merge_sort_iter(arr):\n",
    "    \n",
    "    # init\n",
    "    n = len(arr)\n",
    "    current_size = 1  # size of the sub-arrays in the current level\n",
    "    \n",
    "    while current_size < n-1:\n",
    "        \n",
    "        for left in range(0, n-1, current_size*2):     # left is the first index of sub-array 0, 2, 4,... in the level\n",
    "            mid = left + current_size                  # mid is the first index of sub-array 1, 3, 5,... in the level\n",
    "            if mid < n:  # if more than one sub-array remains: proceed merging\n",
    "                right = min(left + current_size*2, n)  # right is the last index of sub-array 1, 3, 5,... plus 1\n",
    "                merge(arr, left, right, mid)           # merge pairs of sub-arrays: (0, 1), (2, 3),...\n",
    "                \n",
    "        current_size *= 2  # double the current sub-array size"
   ]
  }
 ],
 "metadata": {
  "colab": {
   "provenance": []
  },
  "kernelspec": {
   "display_name": "Python 3",
   "language": "python",
   "name": "python3"
  },
  "language_info": {
   "codemirror_mode": {
    "name": "ipython",
    "version": 3
   },
   "file_extension": ".py",
   "mimetype": "text/x-python",
   "name": "python",
   "nbconvert_exporter": "python",
   "pygments_lexer": "ipython3",
   "version": "3.12.2"
  }
 },
 "nbformat": 4,
 "nbformat_minor": 0
}
