{
 "cells": [
  {
   "cell_type": "code",
   "execution_count": null,
   "metadata": {},
   "outputs": [],
   "source": [
    "def partition_right(arr, left, right):\n",
    "    pivot = arr[right - 1]  # chon moc de so sanh\n",
    "    i = left - 1\n",
    "    for j in range(left, right - 1):\n",
    "        if arr[j] < pivot:\n",
    "            i += 1\n",
    "            arr[i], arr[j] = arr[j], arr[i]\n",
    "    arr[i + 1], arr[right - 1] = arr[right - 1], arr[i + 1]\n",
    "    return i + 1\n",
    "def quick_sort_right(arr, left, right):\n",
    "    if right - left <= 1:\n",
    "        return\n",
    "    if len(arr) <= 1:\n",
    "        return\n",
    "    partition_index = partition_right(arr, left, right)\n",
    "\n",
    "    # de quy\n",
    "    quick_sort_right(arr, left, partition_index)\n",
    "    quick_sort_right(arr, partition_index + 1, right)"
   ]
  }
 ],
 "metadata": {
  "kernelspec": {
   "display_name": "Python 3",
   "language": "python",
   "name": "python3"
  },
  "language_info": {
   "name": "python",
   "version": "3.12.2"
  }
 },
 "nbformat": 4,
 "nbformat_minor": 2
}
