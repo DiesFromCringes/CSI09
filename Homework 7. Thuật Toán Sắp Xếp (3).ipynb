{
 "cells": [
  {
   "cell_type": "markdown",
   "metadata": {
    "id": "NeO51Agb83Tz"
   },
   "source": [
    "## <center>Computer Science Intensive Course - MindX</center>\n",
    "![](./assets/logo.png)\n",
    "# <center>HOMEWORK 7. THUẬT TOÁN SẮP XẾP (3)</center>"
   ]
  },
  {
   "cell_type": "markdown",
   "metadata": {
    "id": "ZrmfAAgi83UA"
   },
   "source": [
    "## Bài Tập: Sắp Xếp Hoa Theo Giá\n",
    "\n",
    "**Bài toán**: Cho danh sách các loại hoa được bày bán và giá với định dạng như bên dưới, hãy sắp xếp danh sách theo thứ tự giá tăng dần.  \n",
    "Biết danh sách có *0 < n < 10<sup>6</sup>* loại hoa, mỗi loại có giá tiền từ 10.000đ đến 100.000đ. Mỗi giá tiền đều chẵn theo nghìn đồng (không có giá tiền nào lẻ 500đ hoặc 200đ).  "
   ]
  },
  {
   "cell_type": "code",
   "execution_count": null,
   "metadata": {
    "id": "mtcaoT3c83UD"
   },
   "outputs": [],
   "source": [
    "flower_prices = [\n",
    "    {'name': 'Red Rose', 'price': 10000},\n",
    "    {'name': 'Lily', 'price': 12000},\n",
    "    {'name': 'Orchid', 'price': 100000},\n",
    "    {'name': 'Blue Rose', 'price': 20000},\n",
    "    {'name': 'Daisy', 'price': 12000},\n",
    "    {'name': 'Tulip', 'price': 20000},\n",
    "    {'name': 'Chrysanthemum', 'price': 10000},\n",
    "    {'name': 'Sunflower', 'price': 20000}\n",
    "]\n"
   ]
  },
  {
   "cell_type": "code",
   "execution_count": null,
   "metadata": {},
   "outputs": [],
   "source": []
  },
  {
   "cell_type": "code",
   "execution_count": 18,
   "metadata": {},
   "outputs": [
    {
     "name": "stdout",
     "output_type": "stream",
     "text": [
      "Mảng đã sắp xếp: [{'name': 'Chrysanthemum', 'price': 10000}, {'name': 'Red Rose', 'price': 10000}, {'name': 'Daisy', 'price': 12000}, {'name': 'Lily', 'price': 12000}, {'name': 'Sunflower', 'price': 20000}, {'name': 'Sunflower', 'price': 20000}, {'name': 'Blue Rose', 'price': 20000}, {'name': 'Orchid', 'price': 100000}]\n"
     ]
    }
   ],
   "source": [
    "def merge(left, right):\n",
    "    result = []\n",
    "    i = j = 0\n",
    "    while i < len(left) and j < len(right):\n",
    "        if left[i][\"price\"] < right[j][\"price\"]:\n",
    "            result.append(left[i])\n",
    "            i +=1\n",
    "        else:\n",
    "            result.append(right[i])\n",
    "            j += 1\n",
    "    result.extend(left[i:])\n",
    "    result.extend(right[j:])\n",
    "    return result\n",
    "\n",
    "def merge_sort(arr):\n",
    "    if len(arr) <= 1:\n",
    "        return arr\n",
    "    mid = len(arr) // 2\n",
    "    left = arr[:mid]\n",
    "    right = arr[mid:]\n",
    "\n",
    "    left = merge_sort(left)\n",
    "    right = merge_sort(right)\n",
    "    return merge(left, right)\n",
    "\n",
    "sorted_arr = merge_sort(flower_prices)\n",
    "print(\"Mảng đã sắp xếp:\", sorted_arr)"
   ]
  }
 ],
 "metadata": {
  "colab": {
   "provenance": []
  },
  "kernelspec": {
   "display_name": "Python 3",
   "language": "python",
   "name": "python3"
  },
  "language_info": {
   "codemirror_mode": {
    "name": "ipython",
    "version": 3
   },
   "file_extension": ".py",
   "mimetype": "text/x-python",
   "name": "python",
   "nbconvert_exporter": "python",
   "pygments_lexer": "ipython3",
   "version": "3.12.2"
  }
 },
 "nbformat": 4,
 "nbformat_minor": 0
}
