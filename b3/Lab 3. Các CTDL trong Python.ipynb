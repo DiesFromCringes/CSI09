{
 "cells": [
  {
   "cell_type": "markdown",
   "metadata": {
    "id": "rHIlOkh2Zy9F"
   },
   "source": [
    "## <center>Computer Science Intensive Course - MindX</center>\n",
    "![](./assets/logo.png)\n",
    "# <center>LAB 3. CÁC CTDL TRONG PYTHON</center>"
   ]
  },
  {
   "cell_type": "markdown",
   "metadata": {
    "id": "RFScUXegZy9Q"
   },
   "source": [
    "## Bài 1. Lọc Từ\n",
    "\n",
    "Cho một đoạn văn gồm nhiều từ và dấu câu, mỗi từ trong đoạn văn cách nhau bằng ít nhất một dấu cách. Lọc ra các từ đã xuất hiện trong đoạn văn và sắp xếp theo thứ tự bảng chữ cái (không phân biệt chữ hoa và thường).\n",
    "\n",
    "**Input**: Một đoạn văn dưới dạng *str* với độ dài < 10^6 ký tự.  \n",
    "**Output**: Một *list* chứa các từ đã xuất hiện trong đoạn văn theo thứ tự bảng chữ cái. Trả về *list* rỗng nếu không có từ nào.  \n",
    "**Ví dụ**:\n",
    "- Input: \"The cat is chasing the rat. The dog is also chasing the rat.\"\n",
    "- Output: ['cat', 'chasing', 'is', 'rat', 'the']\n",
    "- Giải thích: Output là các từ đã xuất hiện trong đoạn văn được sắp xếp theo bảng chữ cái. Các từ 'is' và 'the' xuất hiện nhiều lần được lọc ra.\n",
    "  \n",
    "**Gợi ý**: Lọc các ký tự đặc biệt"
   ]
  },
  {
   "cell_type": "code",
   "execution_count": null,
   "metadata": {
    "id": "wSHZM9PHZy9T",
    "outputId": "8ea279bf-2f89-4479-b7b0-86bac2e938cc"
   },
   "outputs": [
    {
     "data": {
      "text/plain": [
       "'Thecatischasingtherat'"
      ]
     },
     "execution_count": 28,
     "metadata": {},
     "output_type": "execute_result"
    }
   ],
   "source": [
    "string = \"The cat is chasing the rat.\"\n",
    "''.join(c for c in string if c.isalpha())"
   ]
  },
  {
   "cell_type": "code",
   "execution_count": 14,
   "metadata": {
    "id": "XBF5bS5vZy9W"
   },
   "outputs": [
    {
     "data": {
      "text/plain": [
       "['also', 'chasing', 'cat', 'is', 'dog', 'the', 'rat']"
      ]
     },
     "execution_count": 14,
     "metadata": {},
     "output_type": "execute_result"
    }
   ],
   "source": [
    "def filter_word(inp_str):\n",
    "    # cat chuoi thanh tung chu (van con ki tu dac biet)\n",
    "    str_list = inp_str.lower().split(\" \")\n",
    "    # xoa phan tu trung lap\n",
    "    str_list = set(str_list)\n",
    "    results = set()\n",
    "    # bo ki tu dac biet\n",
    "    for word in str_list:\n",
    "        # Loc ki tu dac biet trong tung chu\n",
    "        final_word = \"\".join(c for c in word if c.isalpha())\n",
    "        results.add(final_word)\n",
    "    \n",
    "    return list(results)\n",
    "\n",
    "\n",
    "filter_word(\"The cat is chasing the rat. The dog is also chasing the rat.\")"
   ]
  },
  {
   "cell_type": "markdown",
   "metadata": {
    "id": "dPk4PSKUZy9Z"
   },
   "source": [
    "## Bài 2. Cắt Chữ\n",
    "\n",
    "Cho một đoạn văn gồm nhiều từ và dấu câu. Mỗi từ trong đoạn văn cách nhau bằng ít nhất một dấu cách. Đoạn văn này được hiển thị trên màn hình có độ rộng *k* ký tự. Hãy cắt đoạn văn này thành những chuỗi nhỏ hơn sao cho:\n",
    "- Mỗi chuỗi là dài nhất có thể\n",
    "- Mỗi chuỗi không được dài hơn k ký tự.\n",
    "- Không từ nào bị cắt ở giữa (VD không được cắt \"MindX Technology School.\" thành \"MindX Tech\" và \"nology School.\")\n",
    "- Không có dấu cách ở đầu và cuối chuỗi đã cắt (VD có thể cắt \"MindX Technology School.\" thành \"MindX Technology\" và \"School.\")\n",
    "\n",
    "**Input**: Một đoạn văn dưới dạng *str* với độ dài < 10^6 ký tự và một số nguyên *0 < k < 50*. Không từ nào dài hơn k.  \n",
    "**Output**: Trả về một list các chuỗi đã cắt.   \n",
    "**Ví dụ**:  \n",
    "- Input: \"The cat is chasing the rat. The dog is also chasing the rat.\", k=10\n",
    "- Output: ['The cat is', 'chasing', 'the rat.', 'The dog is', 'also', 'chasing', 'the rat.']"
   ]
  },
  {
   "cell_type": "code",
   "execution_count": 1,
   "metadata": {
    "id": "eUAkw7ksZy9b"
   },
   "outputs": [
    {
     "ename": "TypeError",
     "evalue": "wrap_text() missing 1 required positional argument: 'k'",
     "output_type": "error",
     "traceback": [
      "\u001b[1;31m---------------------------------------------------------------------------\u001b[0m",
      "\u001b[1;31mTypeError\u001b[0m                                 Traceback (most recent call last)",
      "Cell \u001b[1;32mIn[1], line 18\u001b[0m\n\u001b[0;32m     13\u001b[0m             temp_str \u001b[38;5;241m=\u001b[39m \u001b[38;5;124m\"\u001b[39m\u001b[38;5;124m\"\u001b[39m\n\u001b[0;32m     15\u001b[0m     \u001b[38;5;28;01mreturn\u001b[39;00m results\n\u001b[1;32m---> 18\u001b[0m \u001b[43mwrap_text\u001b[49m\u001b[43m(\u001b[49m\u001b[38;5;124;43m\"\u001b[39;49m\u001b[38;5;124;43mThe cat is chasing the rat. The dog is also chasing the rat.\u001b[39;49m\u001b[38;5;124;43m\"\u001b[39;49m\u001b[43m)\u001b[49m\n",
      "\u001b[1;31mTypeError\u001b[0m: wrap_text() missing 1 required positional argument: 'k'"
     ]
    }
   ],
   "source": [
    "def wrap_text(inp_str, k):\n",
    "    # cat chuoi thanh tung chu (van con ki tu dac biet)\n",
    "    str_list = inp_str.split(\" \")\n",
    "    results = []\n",
    "    count = 0\n",
    "    temp_str = \"\"\n",
    "    for i, word in enumerate(str_list):\n",
    "        count += len(word) + 1\n",
    "        temp_str += word + \" \"\n",
    "        if count > k or i == len(str_list) - 1:\n",
    "            results.append(temp_str[:-1])\n",
    "            count = 0\n",
    "            temp_str = \"\"\n",
    "\n",
    "    return results\n",
    "\n",
    "\n",
    "wrap_text(\"The cat is chasing the rat. The dog is also chasing the rat.\")"
   ]
  },
  {
   "cell_type": "markdown",
   "metadata": {
    "id": "AwaWsPTHZy9d"
   },
   "source": [
    "## Bài 3. Phần Tử Bất Thường\n",
    "\n",
    "Cho hai *list* giống nhau về các phần tử nhưng khác nhau về thứ tự. Các phần tử trong *list* không trùng nhau. Tuy nhiên do sự cố, một trong hai list bị dư một phần tử lạ không trùng với các phần tử khác. Hãy tìm giá trị của phần tử đó.  \n",
    "\n",
    "**Input**: Hai list số nguyên có độ dài *n* và *n+1* (hoặc *n+1* và *n*) với *0 < n < 10^6*.  \n",
    "**Output**: Một số nguyên là giá trị của phần tử bất thường.  \n",
    "**Ví dụ**:\n",
    "- Input: [1, 4, 5, 7, 9], [7, 4, 1, 9]\n",
    "- Output: 5"
   ]
  },
  {
   "cell_type": "code",
   "execution_count": null,
   "metadata": {
    "id": "DTN1RafPZy9e"
   },
   "outputs": [],
   "source": [
    "def find_anomaly(list_1, list_2):\n",
    "    pass"
   ]
  },
  {
   "cell_type": "markdown",
   "metadata": {
    "id": "fmkGM_BkZy9h"
   },
   "source": [
    "## Bài 4. Tổng Đường Chéo\n",
    "\n",
    "Cho một ma trận với *n* dòng và *n* cột. Hãy tính tổng các giá trị trên hai đường chéo của ma trận.\n",
    "\n",
    "**Input**: Ma trận *n x n* dưới dạng *list lồng nhau*, với *0 < n < 1000*. Mỗi phần tử trong khoảng [-10^6, 10^6]  \n",
    "**Output**: Một *tuple* bao gồm hai giá trị là tổng các giá trị trên đường chéo chính và đường chéo phụ, theo thứ tự.  \n",
    "**Ví dụ**:\n",
    "- Input:  \n",
    "     [[1, 2, 3],  \n",
    "&nbsp;[4, 5, 6],  \n",
    "&nbsp;[7, 8, 9]]\n",
    "- Output: (15, 15)\n",
    "- Giải thích: Tổng trên đường chéo chính là 1+5+9 = 15; trên đường chéo phụ là 3+5+7 = 15\n",
    "\n",
    "**Gợi ý**:\n",
    "Trong Python, ma trận có thể được lưu trữ dưới dạng *list lồng nhau*, tức các phần tử trong *list* là các *list* khác, mỗi *list* phần tử có cùng độ dài.  \n",
    "Cách truy vấn:"
   ]
  },
  {
   "cell_type": "code",
   "execution_count": null,
   "metadata": {
    "id": "NXeinSaiZy9h",
    "outputId": "fd7bea82-994c-4a6d-e0f6-1b97c347936a"
   },
   "outputs": [],
   "source": [
    "matrix = [[1, 2, 3],\n",
    "          [4, 5, 6],\n",
    "          [7, 8, 9]]\n",
    "\n",
    "    diagonal_1 = 0\n",
    "    diagonal_2 = set()\n",
    "\n",
    "    # tinh duong cheo chinh\n",
    "    for row in range(len(matrix)):\n",
    "        for col in range(len(matrix[row])):\n",
    "            if row == col:\n",
    "                diagonal_1 += matrix[row][col]\n",
    "            if row < col:\n",
    "                diagonal_2.add(matrix[row][len(matrix) - row - 1])\n",
    "            elif row > col:\n",
    "                diagonal_2.add(matrix[len(matrix) - col - 1][col])\n",
    "\n",
    "    return (diagonal_1, sum(diagonal_2))"
   ]
  },
  {
   "cell_type": "code",
   "execution_count": 18,
   "metadata": {
    "id": "QJKBiNfjZy9i"
   },
   "outputs": [],
   "source": [
    "def sum_diagonals(matrix):\n",
    "    diagonal_1 = 0\n",
    "    diagonal_2 = set()\n",
    "\n",
    "    # tinh duong cheo chinh\n",
    "    for row in range(len(matrix)):\n",
    "        for col in range(len(matrix[row])):\n",
    "            if row == col:\n",
    "                diagonal_1 += matrix[row][col]\n",
    "            if row < col:\n",
    "                diagonal_2.add(matrix[row][len(matrix) - row - 1])\n",
    "            elif row > col:\n",
    "                diagonal_2.add(matrix[len(matrix) - col - 1][col])\n",
    "\n",
    "    return (diagonal_1, sum(diagonal_2))"
   ]
  }
 ],
 "metadata": {
  "colab": {
   "provenance": []
  },
  "kernelspec": {
   "display_name": "Python 3",
   "language": "python",
   "name": "python3"
  },
  "language_info": {
   "codemirror_mode": {
    "name": "ipython",
    "version": 3
   },
   "file_extension": ".py",
   "mimetype": "text/x-python",
   "name": "python",
   "nbconvert_exporter": "python",
   "pygments_lexer": "ipython3",
   "version": "3.12.2"
  }
 },
 "nbformat": 4,
 "nbformat_minor": 0
}
