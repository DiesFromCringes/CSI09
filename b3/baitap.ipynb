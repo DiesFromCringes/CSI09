{
 "cells": [
  {
   "cell_type": "code",
   "execution_count": 2,
   "metadata": {},
   "outputs": [],
   "source": [
    "import random as rd"
   ]
  },
  {
   "cell_type": "markdown",
   "metadata": {},
   "source": [
    "# Bai 1: Sắp xếp dãy\n",
    "* Yêu cầu: cho 2 dãy số arr1 và arr2 dưới dạng list, nhập 2 dãy số -> sắp xếp theo thứ tự giảm dần"
   ]
  },
  {
   "cell_type": "code",
   "execution_count": 7,
   "metadata": {},
   "outputs": [],
   "source": [
    "arr2 = [rd.randint(0, 1000000) for _ in range(50)]\n",
    "arr1 = [rd.randint(0, 1000000) for _ in range(50)]"
   ]
  },
  {
   "cell_type": "code",
   "execution_count": 8,
   "metadata": {},
   "outputs": [
    {
     "name": "stdout",
     "output_type": "stream",
     "text": [
      "[984908, 979605, 975752, 973238, 971828, 951208, 938857, 938318, 935700, 929036, 921261, 895898, 884625, 873643, 871900, 838169, 819164, 805189, 799968, 790721, 784683, 783345, 760555, 756362, 754228, 744798, 737812, 734082, 730536, 723637, 708102, 700425, 694970, 689628, 667125, 663686, 663550, 626118, 624910, 620252, 616108, 588925, 588567, 566883, 564957, 555227, 547832, 543526, 532906, 524742, 511615, 500687, 497456, 465725, 465640, 457168, 427445, 425077, 422981, 414645, 398661, 388137, 348571, 343917, 336700, 335678, 326411, 325737, 307102, 306758, 290797, 283849, 281800, 272450, 265232, 258197, 252296, 240440, 213548, 213222, 212334, 202553, 168414, 166746, 159434, 155689, 149861, 148419, 118898, 115013, 104916, 94361, 87169, 85656, 81306, 76526, 69197, 56548, 55664, 49435]\n"
     ]
    }
   ],
   "source": [
    "arr1 += arr2\n",
    "arr1.sort(reverse=True)\n",
    "print(arr1)"
   ]
  }
 ],
 "metadata": {
  "kernelspec": {
   "display_name": "Python 3",
   "language": "python",
   "name": "python3"
  },
  "language_info": {
   "codemirror_mode": {
    "name": "ipython",
    "version": 3
   },
   "file_extension": ".py",
   "mimetype": "text/x-python",
   "name": "python",
   "nbconvert_exporter": "python",
   "pygments_lexer": "ipython3",
   "version": "3.12.2"
  }
 },
 "nbformat": 4,
 "nbformat_minor": 2
}
