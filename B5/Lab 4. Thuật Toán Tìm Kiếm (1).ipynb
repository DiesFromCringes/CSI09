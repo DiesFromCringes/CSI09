{
 "cells": [
  {
   "cell_type": "markdown",
   "metadata": {
    "id": "Ty4Nx5hp1m69"
   },
   "source": [
    "## <center>Computer Science Intensive Course - MindX</center>\n",
    "![](./assets/logo.png)\n",
    "# <center>LAB 4. THUẬT TOÁN TÌM KIẾM</center>"
   ]
  },
  {
   "cell_type": "markdown",
   "metadata": {
    "id": "Y0ImotcV1m7E"
   },
   "source": [
    "## Bài 1. Đếm Từ\n",
    "\n",
    "Cho một đoạn văn gồm nhiều từ và dấu câu, mỗi từ trong đoạn văn cách nhau bằng ít nhất một dấu cách. Đếm tần suất xuất hiện của một từ trong đoạn văn đó (không phân biệt chữ hoa và thường).\n",
    "\n",
    "**Input**: Một đoạn văn dưới dạng *str* với độ dài < 10^6 ký tự và một từ.  \n",
    "**Output**: Tần suất xuất hiện của từ đã cho trong đoạn văn.  \n",
    "**Ví dụ**:\n",
    "- Input: \"The cat is chasing the rat in Netherlands. The dog is also chasing the rat.\", \"the\"\n",
    "- Output: 4\n",
    "- Giải thích: Từ \"the\" xuất hiện 4 lần, không phân biệt chữ hoa và thường.\n",
    "  \n",
    "**Gợi ý**: Kiểm tra một ký tự có nằm trong bảng chữ cái không:"
   ]
  },
  {
   "cell_type": "code",
   "execution_count": null,
   "metadata": {
    "id": "UZxBUFlX1m7F",
    "outputId": "d427f6a1-d75f-4d20-f522-adab54c0b429"
   },
   "outputs": [
    {
     "name": "stdout",
     "output_type": "stream",
     "text": [
      "True\n",
      "False\n"
     ]
    }
   ],
   "source": [
    "ch = 'a'\n",
    "ch2 = '.'\n",
    "print(ch.isalpha())\n",
    "print(ch2.isalpha())"
   ]
  },
  {
   "cell_type": "code",
   "execution_count": null,
   "metadata": {
    "id": "VnXHTIz21m7G"
   },
   "outputs": [
    {
     "name": "stdout",
     "output_type": "stream",
     "text": [
      "2\n"
     ]
    }
   ],
   "source": [
    "def count_word_frequency(paragraph: str, word: str) -> int:\n",
    "    paragraph = paragraph.lower()\n",
    "    word = word.lower()\n",
    "    words = paragraph.split()\n",
    "    frequency = words.count(word)\n",
    "    return frequency\n",
    "input_paragraph = \"The cat is chasing the rat in Netherlands. The dog is also chasing the rat.\"\n",
    "input_word = \"is\"\n",
    "output = count_word_frequency(input_paragraph, input_word)\n",
    "print(output)\n"
   ]
  },
  {
   "cell_type": "markdown",
   "metadata": {
    "id": "osTbWSup1m7I"
   },
   "source": [
    "## Bài 2. Rút Gọn Phân Số\n",
    "\n",
    "**Input**: Một phân số a/b với 0 < a, b < 10^9 là số nguyên.  \n",
    "**Output**: Phân số a/b sau khi đã rút gọn.  \n",
    "**Ví dụ**:  \n",
    "Ví dụ 1:\n",
    "- Input: a = 20, b = 4\n",
    "- Output: a = 5, b = 1  \n",
    "\n",
    "Ví dụ 2:\n",
    "- Input: a = 7, b = 20\n",
    "- Output: a = 7, b = 20"
   ]
  },
  {
   "cell_type": "code",
   "execution_count": 6,
   "metadata": {
    "id": "My8zFDIL1m7I"
   },
   "outputs": [
    {
     "name": "stdout",
     "output_type": "stream",
     "text": [
      "a = 5, b = 1\n",
      "a = 7, b = 20\n"
     ]
    }
   ],
   "source": [
    "import math\n",
    "\n",
    "def reduce_fraction(a, b):\n",
    "    gcd = math.gcd(a, b) # GCD la uoc chung lon nhat\n",
    "    # Rút gọn phân số\n",
    "    a_reduced = a // gcd\n",
    "    b_reduced = b // gcd\n",
    "    \n",
    "    return a_reduced, b_reduced\n",
    "\n",
    "a1, b1 = 20, 4\n",
    "result1 = reduce_fraction(a1, b1)\n",
    "print(f\"a = {result1[0]}, b = {result1[1]}\")  \n",
    "\n",
    "a2, b2 = 7, 20\n",
    "result2 = reduce_fraction(a2, b2)\n",
    "print(f\"a = {result2[0]}, b = {result2[1]}\") \n"
   ]
  }
 ],
 "metadata": {
  "colab": {
   "provenance": []
  },
  "kernelspec": {
   "display_name": "Python 3",
   "language": "python",
   "name": "python3"
  },
  "language_info": {
   "codemirror_mode": {
    "name": "ipython",
    "version": 3
   },
   "file_extension": ".py",
   "mimetype": "text/x-python",
   "name": "python",
   "nbconvert_exporter": "python",
   "pygments_lexer": "ipython3",
   "version": "3.12.2"
  }
 },
 "nbformat": 4,
 "nbformat_minor": 0
}
