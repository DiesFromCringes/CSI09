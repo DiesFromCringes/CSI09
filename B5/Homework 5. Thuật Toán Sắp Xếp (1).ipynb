{
 "cells": [
  {
   "cell_type": "markdown",
   "metadata": {
    "id": "tGWgODFaAZpG"
   },
   "source": [
    "## <center>Computer Science Intensive Course - MindX</center>\n",
    "![](./assets/logo.png)\n",
    "# <center>HOMEWORK 5. THUẬT TOÁN SẮP XẾP (1)</center>"
   ]
  },
  {
   "cell_type": "markdown",
   "metadata": {
    "id": "vbu7xyqoAZpP"
   },
   "source": [
    "## Bài Tập: Danh Sách Từ\n",
    "\n",
    "Cho danh sách 100 từ tiếng Anh thông dụng nhất, mỗi từ cách nhau bằng một dấu cách. Hãy sắp xếp danh sách trên theo quy tắc sau:\n",
    "- Từ có ít chữ cái hơn đứng trước\n",
    "- Nếu hai từ có cùng số chữ cái, từ nào có thứ tự nhỏ hơn trong bảng chữ cái đứng trước (dùng phép so sánh < hoặc > trên *string*)  \n",
    "\n",
    "**Input**: *most_common_100*  \n",
    "**Output**: Một *string* với cùng định dạng, nhưng các từ được sắp xếp theo quy tắc như trên."
   ]
  },
  {
   "cell_type": "code",
   "execution_count": 5,
   "metadata": {
    "id": "yLk6sTSGAZpR"
   },
   "outputs": [],
   "source": [
    "most_common_100 = \"the of to and a in is it you that he was for on are with as I his they be at one have this from or had by hot but some what there we can out other were all your when up use word how said an each she which do their time if will way about many then them would write like so these her long make thing see him two has look more day could go come did my sound no most number who over know water than call first people may down side been now find\""
   ]
  },
  {
   "cell_type": "code",
   "execution_count": 13,
   "metadata": {},
   "outputs": [
    {
     "name": "stdout",
     "output_type": "stream",
     "text": [
      "a as at be be by do he if in it of on or to all and but for not one the the you from have said that this will with their there which would\n"
     ]
    }
   ],
   "source": [
    "def word(word_list):\n",
    "    words = word_list.split()\n",
    "    sorted_words = sorted(words, key=lambda x: (len(x), x))\n",
    "    sorted_string = ' '.join(sorted_words)\n",
    "    \n",
    "    return sorted_string\n",
    "\n",
    "\n",
    "print(word(most_common_100))\n"
   ]
  }
 ],
 "metadata": {
  "colab": {
   "provenance": []
  },
  "kernelspec": {
   "display_name": "Python 3",
   "language": "python",
   "name": "python3"
  },
  "language_info": {
   "codemirror_mode": {
    "name": "ipython",
    "version": 3
   },
   "file_extension": ".py",
   "mimetype": "text/x-python",
   "name": "python",
   "nbconvert_exporter": "python",
   "pygments_lexer": "ipython3",
   "version": "3.12.2"
  }
 },
 "nbformat": 4,
 "nbformat_minor": 0
}
