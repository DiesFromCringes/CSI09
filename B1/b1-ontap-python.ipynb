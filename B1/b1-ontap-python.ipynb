{
 "cells": [
  {
   "cell_type": "markdown",
   "metadata": {},
   "source": [
    "# 1. Thành phần cơ bản     "
   ]
  },
  {
   "cell_type": "markdown",
   "metadata": {},
   "source": [
    "## 1.1 Input + output"
   ]
  },
  {
   "cell_type": "code",
   "execution_count": 21,
   "metadata": {},
   "outputs": [
    {
     "name": "stdout",
     "output_type": "stream",
     "text": [
      "Tên của bạn là: Thang\n"
     ]
    }
   ],
   "source": [
    "# Nhập vào tên 1 người, in lại tên người đó \n",
    "print('Tên của bạn là:', input('Your name: '))"
   ]
  },
  {
   "cell_type": "markdown",
   "metadata": {},
   "source": [
    "## 1.2 Biến và hằng"
   ]
  },
  {
   "cell_type": "code",
   "execution_count": 22,
   "metadata": {},
   "outputs": [
    {
     "data": {
      "text/plain": [
       "10"
      ]
     },
     "execution_count": 22,
     "metadata": {},
     "output_type": "execute_result"
    }
   ],
   "source": [
    "# bien so\n",
    "a = 10\n",
    "a # tự print giá trị của biến (mỗi đoạn code chỉ print biến gọi cuối cùng)\n"
   ]
  },
  {
   "cell_type": "code",
   "execution_count": 23,
   "metadata": {},
   "outputs": [
    {
     "data": {
      "text/plain": [
       "3.14"
      ]
     },
     "execution_count": 23,
     "metadata": {},
     "output_type": "execute_result"
    }
   ],
   "source": [
    "#  hằng số \n",
    "PI = 3.14\n",
    "PI "
   ]
  },
  {
   "cell_type": "markdown",
   "metadata": {},
   "source": [
    "## 1.3 Kiểu dữ liệu + chuyển kiểu\n"
   ]
  },
  {
   "cell_type": "code",
   "execution_count": 24,
   "metadata": {},
   "outputs": [],
   "source": [
    "var_int = 3\n",
    "var_float = 1.3\n",
    "var_boolean = True\n",
    "\n",
    "var_string = 'Hello World'\n",
    "var_string2 = 'a'"
   ]
  },
  {
   "cell_type": "markdown",
   "metadata": {},
   "source": [
    "Cách xem kiểu dữ liệu của 1 biến"
   ]
  },
  {
   "cell_type": "code",
   "execution_count": 25,
   "metadata": {},
   "outputs": [
    {
     "data": {
      "text/plain": [
       "str"
      ]
     },
     "execution_count": 25,
     "metadata": {},
     "output_type": "execute_result"
    }
   ],
   "source": [
    "type(var_string)"
   ]
  },
  {
   "cell_type": "markdown",
   "metadata": {},
   "source": [
    "** Không cần xác định kiểu dữ liệu khi khởi tạo biến -> có thể thay đổi kiểu dữ liệu của biến đã tạo\n",
    "** Tên biến giống \"nhãn dán\" trên dữ liệu được lưu trong bộ nhớ -> thay đổi giá trị biến -> chuyển nhãn dán từ vị trí khác trong bộ nhớ"
   ]
  },
  {
   "cell_type": "code",
   "execution_count": 26,
   "metadata": {},
   "outputs": [
    {
     "data": {
      "text/plain": [
       "'abc'"
      ]
     },
     "execution_count": 26,
     "metadata": {},
     "output_type": "execute_result"
    }
   ],
   "source": [
    "str1 = 'abc'\n",
    "str2 = \"123\"\n",
    "str1"
   ]
  },
  {
   "cell_type": "markdown",
   "metadata": {},
   "source": [
    "Chuyển kiểu dữ liệu"
   ]
  },
  {
   "cell_type": "markdown",
   "metadata": {},
   "source": []
  },
  {
   "cell_type": "code",
   "execution_count": 27,
   "metadata": {},
   "outputs": [
    {
     "data": {
      "text/plain": [
       "1"
      ]
     },
     "execution_count": 27,
     "metadata": {},
     "output_type": "execute_result"
    }
   ],
   "source": [
    "# int - float\n",
    "var1 = 1.9\n",
    "int(var1) "
   ]
  },
  {
   "cell_type": "code",
   "execution_count": 28,
   "metadata": {},
   "outputs": [
    {
     "data": {
      "text/plain": [
       "123.1"
      ]
     },
     "execution_count": 28,
     "metadata": {},
     "output_type": "execute_result"
    }
   ],
   "source": [
    "var2 = \"123.1\"\n",
    "# int(var2)\n",
    "float(var2)"
   ]
  },
  {
   "cell_type": "code",
   "execution_count": 29,
   "metadata": {},
   "outputs": [
    {
     "data": {
      "text/plain": [
       "True"
      ]
     },
     "execution_count": 29,
     "metadata": {},
     "output_type": "execute_result"
    }
   ],
   "source": [
    "# str - bool\n",
    "var3 = 'true'\n",
    "bool(var3)"
   ]
  },
  {
   "cell_type": "markdown",
   "metadata": {},
   "source": [
    "## 1.4 Phép toán"
   ]
  },
  {
   "cell_type": "markdown",
   "metadata": {},
   "source": [
    "### a. phép toán toán học"
   ]
  },
  {
   "cell_type": "code",
   "execution_count": 30,
   "metadata": {},
   "outputs": [
    {
     "name": "stdout",
     "output_type": "stream",
     "text": [
      "Cộng 19.3\n",
      "Trừ 6.7\n",
      "Nhân 37.8\n",
      "Chia 2.0634920634920637\n",
      "Chia lấy phần nguyên 2\n",
      "Chia lấy phần dư 0.2999999999999998\n",
      "Mũ 62523.50220899999\n"
     ]
    }
   ],
   "source": [
    "num1 = 13\n",
    "num2 = 6.3\n",
    "num3 = 6\n",
    "\n",
    "print(\"Cộng\", num1 + num2)\n",
    "print(\"Trừ\", num1 - num2)\n",
    "print(\"Nhân\", num3 * num2)\n",
    "print(\"Chia\", num1 / num2)\n",
    "print(\"Chia lấy phần nguyên\", num1 // num3)\n",
    "print(\"Chia lấy phần dư\", num2 % num3)\n",
    "print(\"Mũ\", num2 ** num3)\n",
    "\n"
   ]
  },
  {
   "cell_type": "markdown",
   "metadata": {},
   "source": [
    "### b. Phép toán so sánh"
   ]
  },
  {
   "cell_type": "code",
   "execution_count": 31,
   "metadata": {},
   "outputs": [
    {
     "name": "stdout",
     "output_type": "stream",
     "text": [
      "AND False\n",
      "OR False\n",
      "NOT False\n"
     ]
    }
   ],
   "source": [
    "print(\"AND\", num1 > num2 and num1 == num3)\n",
    "print(\"OR\", num1 <= num2 or num1 == num3)\n",
    "print(\"NOT\", not num1 >= num2)"
   ]
  },
  {
   "cell_type": "markdown",
   "metadata": {},
   "source": [
    "## 1.5 Hàm (function - def)\n",
    "* Hàm trả về (có return)\n",
    "* Hàm không có trả về (ko return)\n",
    "* Hàm có tham số truyền vào - đối số\n",
    "* Hàm k có tham số truyền vào "
   ]
  },
  {
   "cell_type": "code",
   "execution_count": null,
   "metadata": {},
   "outputs": [],
   "source": []
  },
  {
   "cell_type": "code",
   "execution_count": 32,
   "metadata": {},
   "outputs": [
    {
     "name": "stdout",
     "output_type": "stream",
     "text": [
      "str1str2\n",
      "68\n"
     ]
    }
   ],
   "source": [
    "sum_f = lambda a, b: a + b # hàm có trả về + chỉ 1 dòng xử lí\n",
    "print(sum_f('str1', 'str2'))\n",
    "print(sum_f(12,56))"
   ]
  },
  {
   "cell_type": "code",
   "execution_count": 34,
   "metadata": {},
   "outputs": [
    {
     "name": "stdout",
     "output_type": "stream",
     "text": [
      "abc\n",
      "Thang\n"
     ]
    }
   ],
   "source": [
    "def printName(name = 'abc'):\n",
    "    print(name)\n",
    "\n",
    "printName()\n",
    "printName('Thang')"
   ]
  },
  {
   "cell_type": "markdown",
   "metadata": {},
   "source": [
    "## 1.6 Module\n",
    "Code pythong có thể đc đóng gói thành modulevà đc sử dụng bởi các file python khác bằng cách import.\n",
    "Module có sẵn đc gọi là thư viện"
   ]
  },
  {
   "cell_type": "code",
   "execution_count": 1,
   "metadata": {},
   "outputs": [
    {
     "name": "stdout",
     "output_type": "stream",
     "text": [
      "120\n",
      "sin 1.0\n"
     ]
    }
   ],
   "source": [
    "import math\n",
    "print(math.factorial(5)) # giai thừa\n",
    "print(\"sin\", math.sin(math.pi / 2))"
   ]
  },
  {
   "cell_type": "code",
   "execution_count": 4,
   "metadata": {},
   "outputs": [],
   "source": [
    "# use my modules\n",
    "import a\n",
    "import b"
   ]
  },
  {
   "cell_type": "markdown",
   "metadata": {},
   "source": [
    "# 2 Cấu trúc điều khiển\n",
    "## 2.1 Câu điều kiện"
   ]
  },
  {
   "cell_type": "code",
   "execution_count": 5,
   "metadata": {},
   "outputs": [
    {
     "name": "stdout",
     "output_type": "stream",
     "text": [
      "a\n",
      "a\n"
     ]
    }
   ],
   "source": [
    "# Cách viết tắt\n",
    "print(\"a\") if 3 < 4 else print(\"b\")\n",
    "# Cách viết thường\n",
    "if 1 < 3 < 4:\n",
    "    print(\"a\")\n",
    "else:\n",
    "    print(\"b\")\n"
   ]
  },
  {
   "cell_type": "markdown",
   "metadata": {},
   "source": [
    "## 2.2 Vòng lặp for\n",
    "* range(start, end, stop)\n",
    "* for lặp theo range \n",
    "* for duyệt qua phần tử"
   ]
  },
  {
   "cell_type": "code",
   "execution_count": 8,
   "metadata": {},
   "outputs": [
    {
     "name": "stdout",
     "output_type": "stream",
     "text": [
      "1\n",
      "3\n",
      "5\n",
      "7\n",
      "9\n"
     ]
    },
    {
     "data": {
      "text/plain": [
       "[1, 3, 5, 7, 9]"
      ]
     },
     "execution_count": 8,
     "metadata": {},
     "output_type": "execute_result"
    }
   ],
   "source": [
    "# Cách viết thường\n",
    "for i in range(1, 11, 2):\n",
    "    print(i)\n",
    "# Cách viết tắt\n",
    "listNum = [i for i in range (1, 11, 2)]\n",
    "listNum"
   ]
  },
  {
   "cell_type": "code",
   "execution_count": 12,
   "metadata": {},
   "outputs": [
    {
     "name": "stdout",
     "output_type": "stream",
     "text": [
      "n\n",
      "g\n",
      "u\n",
      "y\n",
      "e\n",
      "n\n",
      " \n",
      "v\n",
      "n\n",
      " \n"
     ]
    },
    {
     "data": {
      "text/plain": [
       "['n', 'g', 'u', 'y', 'e', 'n', ' ', 'v', 'n', ' ', ' ']"
      ]
     },
     "execution_count": 12,
     "metadata": {},
     "output_type": "execute_result"
    }
   ],
   "source": [
    "# Cách viết thường\n",
    "for char in \"nguyen van a\":\n",
    "    if char != \"a\":\n",
    "        print(char)\n",
    "\n",
    "# Cách viết tắt\n",
    "characterList = [ char for char in \"nguyen van a \" if char != \"a\"]\n",
    "characterList\n"
   ]
  },
  {
   "cell_type": "code",
   "execution_count": 15,
   "metadata": {},
   "outputs": [
    {
     "name": "stdout",
     "output_type": "stream",
     "text": [
      "Số lẻ 1\n",
      "Số lẻ 3\n",
      "Số lẻ 5\n",
      "Số lẻ 7\n",
      "Số lẻ 9\n"
     ]
    },
    {
     "data": {
      "text/plain": [
       "[0, None, 2, None, 4, None, 6, None, 8, None]"
      ]
     },
     "execution_count": 15,
     "metadata": {},
     "output_type": "execute_result"
    }
   ],
   "source": [
    "# Kết hợp if - else + for\n",
    "numList = [i if i % 2 == 0 else print(\"Số lẻ\",i) for i in range(10)]\n",
    "numList     \n"
   ]
  },
  {
   "cell_type": "markdown",
   "metadata": {},
   "source": [
    "## 2.3 Vòng lặp while\n",
    "* Chú ý không đặt điều kiện trả về true hoàn toàn => vòng lặp vô hạn"
   ]
  },
  {
   "cell_type": "code",
   "execution_count": 16,
   "metadata": {},
   "outputs": [
    {
     "name": "stdout",
     "output_type": "stream",
     "text": [
      "12\n",
      "11\n"
     ]
    }
   ],
   "source": [
    "i = 12\n",
    "while i > 10: # nếu đk trả về false -> dừng\n",
    "    print(i)\n",
    "    i -= 1"
   ]
  },
  {
   "cell_type": "markdown",
   "metadata": {},
   "source": [
    "## 2.3 Xử lí exception"
   ]
  },
  {
   "cell_type": "markdown",
   "metadata": {},
   "source": [
    "### a. Cấu trúc **Try ... except ...**"
   ]
  },
  {
   "cell_type": "code",
   "execution_count": 17,
   "metadata": {},
   "outputs": [
    {
     "name": "stdout",
     "output_type": "stream",
     "text": [
      "throw an exception\n"
     ]
    }
   ],
   "source": [
    "try:\n",
    "    var1 = int(\"123.0\")\n",
    "except:\n",
    "    print('throw an exception')"
   ]
  },
  {
   "cell_type": "code",
   "execution_count": 20,
   "metadata": {},
   "outputs": [
    {
     "name": "stdout",
     "output_type": "stream",
     "text": [
      "throw an value error\n"
     ]
    }
   ],
   "source": [
    "try:\n",
    "    var1 = int(\"123.0\")\n",
    "except ValueError: # catch a specific exception\n",
    "    print('throw an value error')\n",
    "except: # phần còn lại\n",
    "    print(\"other exception\")"
   ]
  },
  {
   "cell_type": "markdown",
   "metadata": {},
   "source": [
    "### b. Cấu trúc **Try ... except ...finally...**"
   ]
  },
  {
   "cell_type": "code",
   "execution_count": 25,
   "metadata": {},
   "outputs": [
    {
     "name": "stdout",
     "output_type": "stream",
     "text": [
      "no file\n",
      "closed this file\n"
     ]
    }
   ],
   "source": [
    "f = None\n",
    "try:\n",
    "    f = open(\"demofile.txt\", \"r\")\n",
    "    print(f.readline()) # print first line in file\n",
    "except:\n",
    "    print(\"no file\")\n",
    "finally:\n",
    "    if (f != None):\n",
    "        f.close()\n",
    "    print(\"closed this file\")"
   ]
  },
  {
   "cell_type": "markdown",
   "metadata": {},
   "source": [
    "# 3. Cấu trúc dữ liệu có sẵn"
   ]
  }
 ],
 "metadata": {
  "kernelspec": {
   "display_name": "Python 3",
   "language": "python",
   "name": "python3"
  },
  "language_info": {
   "codemirror_mode": {
    "name": "ipython",
    "version": 3
   },
   "file_extension": ".py",
   "mimetype": "text/x-python",
   "name": "python",
   "nbconvert_exporter": "python",
   "pygments_lexer": "ipython3",
   "version": "3.12.2"
  }
 },
 "nbformat": 4,
 "nbformat_minor": 2
}
